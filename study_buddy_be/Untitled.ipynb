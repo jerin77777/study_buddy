{
 "cells": [
  {
   "cell_type": "code",
   "execution_count": 2,
   "id": "f94cb7f4-bb32-4a21-81b0-21652660a3dd",
   "metadata": {},
   "outputs": [],
   "source": [
    "import time\n",
    "from selenium import webdriver\n",
    "from selenium.webdriver.common.by import By\n",
    "from selenium.webdriver.chrome.options import Options\n",
    "from selenium.webdriver.common.keys import Keys\n",
    "import urllib.request\n",
    "import uuid\n",
    "import requests\n",
    "\n",
    "\n",
    "\n",
    "driver = webdriver.Chrome()\n",
    "driver.get(\"https://discord.gg/\")\n"
   ]
  },
  {
   "cell_type": "code",
   "execution_count": 5,
   "id": "e4a45124-76ea-4b82-8ff8-c824fe678f61",
   "metadata": {},
   "outputs": [
    {
     "name": "stdout",
     "output_type": "stream",
     "text": [
      "send\n"
     ]
    }
   ],
   "source": [
    "prompt = \"people working in a car factory in anime style\"\n",
    "elements = driver.find_elements(By.TAG_NAME, 'form')\n",
    "for temp in elements:\n",
    "    for e in temp.find_elements(By.TAG_NAME, 'div'):\n",
    "        try:\n",
    "            if e.get_attribute(\"role\") == \"textbox\":\n",
    "                e.click()\n",
    "                time.sleep(0.5)\n",
    "                e.send_keys(Keys.CONTROL + \"a\")\n",
    "                e.send_keys(Keys.DELETE)\n",
    "\n",
    "                e.send_keys(\"/create\")\n",
    "                time.sleep(1)\n",
    "                e.send_keys(\" \", prompt)\n",
    "                print(\"send\")\n",
    "        except:\n",
    "            pass"
   ]
  },
  {
   "cell_type": "code",
   "execution_count": 7,
   "id": "93ff36a6-64bf-49a5-8bbe-77bf74b1f431",
   "metadata": {},
   "outputs": [
    {
     "name": "stdout",
     "output_type": "stream",
     "text": [
      "gott\n",
      "https://cdn.discordapp.com/attachments/1181990603689566248/1235451708155363418/663319539f0b6891fc75eece.mp4?ex=66346b90&is=66331a10&hm=ff8976744d49fe6bcf27b36062447fc4af73043c0a7dddfeab71ff313e42e0e6&\n",
      "{'img': '/static/46f655c0-52c4-4f0c-813e-b266b6701ee2.jpg', 'vid': '/static/3147fc83-be7f-4b5e-9f69-3493749fd9bd.mp4'}\n"
     ]
    }
   ],
   "source": [
    "elements = driver.find_elements(By.CLASS_NAME, 'message__04a5b')\n",
    "for temp in elements:\n",
    "    for temp2 in temp.find_elements(By.CLASS_NAME, 'contents_d3ae0d'):\n",
    "        if prompt in temp2.text:\n",
    "            print(\"gott\")\n",
    "            for e in temp.find_elements(By.TAG_NAME, 'video'):\n",
    "                data = requests.get(e.get_attribute('poster')).content\n",
    "                img = \"./static/\" + str(uuid.uuid4()) + \".jpg\"\n",
    "                f = open(img, 'wb')\n",
    "\n",
    "                f.write(data)\n",
    "                f.close()\n",
    "\n",
    "                print(e.get_attribute('src'))\n",
    "                data = requests.get(e.get_attribute('src')).content\n",
    "                vid = \"./static/\" + str(uuid.uuid4()) + \".mp4\"\n",
    "                f = open(vid, 'wb')\n",
    "\n",
    "                f.write(data)\n",
    "                f.close()\n",
    "\n",
    "\n",
    "                src = {\"img\":img.replace(\"./\",\"/\"), \"vid\":vid.replace(\"./\",\"/\")}\n",
    "                print(src)"
   ]
  },
  {
   "cell_type": "code",
   "execution_count": null,
   "id": "b21dcd61-9500-40c5-94d4-0e5e78c8dc78",
   "metadata": {},
   "outputs": [],
   "source": []
  }
 ],
 "metadata": {
  "kernelspec": {
   "display_name": "Python 3 (ipykernel)",
   "language": "python",
   "name": "python3"
  },
  "language_info": {
   "codemirror_mode": {
    "name": "ipython",
    "version": 3
   },
   "file_extension": ".py",
   "mimetype": "text/x-python",
   "name": "python",
   "nbconvert_exporter": "python",
   "pygments_lexer": "ipython3",
   "version": "3.12.0"
  }
 },
 "nbformat": 4,
 "nbformat_minor": 5
}
